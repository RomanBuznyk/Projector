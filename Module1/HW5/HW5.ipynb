{
 "cells": [
  {
   "cell_type": "code",
   "execution_count": null,
   "id": "d0315da3",
   "metadata": {},
   "outputs": [],
   "source": [
    "#Write a function called square() with one argument of int type \n",
    "# and returns the value of that number raised to the second power.\n",
    "\n",
    "def square(inp) -> int:\n",
    "    return inp ** 2\n",
    "inp = int(input('Enter a number:'))\n",
    "print(square(inp), 'is a square of', inp)"
   ]
  },
  {
   "cell_type": "code",
   "execution_count": null,
   "id": "cbf5c91b",
   "metadata": {},
   "outputs": [],
   "source": [
    "#Write a program called convert_cel_to_fahr() that takes a temperature in Celsius and\n",
    "#returns the equivalent temperature in Fahrenheit. \n",
    "# It should take a number as an argument from user input and return a number to the console.\n",
    "\n",
    "def convert_cel_to_fahr(x) -> int:\n",
    "    fahrenheit = (x * (9 / 5)) + 32\n",
    "    return (fahrenheit)\n",
    "x = int(input(\"Enter Celius:\"))\n",
    "print(f'Fahrenheit is', convert_cel_to_fahr(x))"
   ]
  },
  {
   "cell_type": "code",
   "execution_count": null,
   "id": "bdd25e01",
   "metadata": {},
   "outputs": [],
   "source": [
    "#Write a function that implement case swapping. \n",
    "# It should return the same result as swapcase() method. \n",
    "# Your function should accept one str argument and convert \n",
    "# all lower case values to upper case and vice versa.\n",
    "\n",
    "def swapcase(inp) -> str:\n",
    "    for i in inp:\n",
    "        if i.isupper():\n",
    "            print(i.lower(), end = '')\n",
    "        elif i.islower():\n",
    "            print(i.upper(),  end = '')\n",
    "    return ''  #для того щоб  None не було відразу після слова \n",
    "inp = input('Enter a word:')\n",
    "print(swapcase(inp))\n",
    "        \n",
    "\n"
   ]
  }
 ],
 "metadata": {
  "kernelspec": {
   "display_name": "Python 3 (ipykernel)",
   "language": "python",
   "name": "python3"
  },
  "language_info": {
   "codemirror_mode": {
    "name": "ipython",
    "version": 3
   },
   "file_extension": ".py",
   "mimetype": "text/x-python",
   "name": "python",
   "nbconvert_exporter": "python",
   "pygments_lexer": "ipython3",
   "version": "3.11.0"
  }
 },
 "nbformat": 4,
 "nbformat_minor": 5
}
