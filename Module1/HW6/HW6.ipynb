{
 "cells": [
  {
   "cell_type": "code",
   "execution_count": null,
   "id": "8e651a9a",
   "metadata": {},
   "outputs": [],
   "source": [
    "def func(a, b):\n",
    "    def func1(a,b):\n",
    "        return a + b \n",
    "    return a + b + 5\n",
    "print(func(1, 3))"
   ]
  },
  {
   "cell_type": "code",
   "execution_count": null,
   "id": "a0d63b15",
   "metadata": {},
   "outputs": [],
   "source": [
    "while True:\n",
    "    try:\n",
    "        number = int(input(\"Enter a number: \"))\n",
    "        print(number)\n",
    "        break\n",
    "    except ValueError:\n",
    "        print(\"Not a number\")\n",
    "\n",
    "    \n",
    "\n",
    "\n"
   ]
  },
  {
   "cell_type": "code",
   "execution_count": null,
   "id": "6ec185fa",
   "metadata": {},
   "outputs": [],
   "source": [
    "string1 = input('Enteer string:')\n",
    "n = int(input('Enter digit or number:'))\n",
    "\n",
    "while n >= 0:\n",
    "    print(string1[n])\n",
    "    break\n",
    "\n",
    "\n",
    "\n",
    "    \n",
    "\n"
   ]
  },
  {
   "cell_type": "code",
   "execution_count": null,
   "id": "992e7919",
   "metadata": {},
   "outputs": [],
   "source": [
    "import random\n",
    "print (random.choice(range(1, 6)))\n"
   ]
  },
  {
   "cell_type": "code",
   "execution_count": null,
   "id": "469b2f79",
   "metadata": {},
   "outputs": [],
   "source": [
    "import random\n",
    "\n",
    "side1 = 0 #тут змінні для кожної сторони\n",
    "side2 = 0\n",
    "side3 = 0\n",
    "side4 = 0\n",
    "side5 = 0\n",
    "side6 = 0\n",
    "for i in range(1, 10000): #далі буде виконуватися цикл для кожної і 10000 раз\n",
    "    dice = random.choice(range(1, 7))# зміннв для кубика яка дає цифру від 1 до 6 \n",
    "    if dice == 1: # умова якщо випало 1 \n",
    "        side1 += 1  # лічильник \n",
    "    elif dice == 2:\n",
    "        side2 += 1\n",
    "    elif dice == 3:\n",
    "        side3 += 1\n",
    "    elif dice == 4:\n",
    "        side4 += 1\n",
    "    elif dice == 5:\n",
    "        side5 += 1\n",
    "    elif dice == 6:\n",
    "        side6 += 1\n",
    "   \n",
    "    \n",
    "print('Side 1 appeard', side1, 'times  '\\\n",
    "    'Side 2 appeard', side2, 'times  '\\\n",
    "    'Side 3 appeard', side3, 'times  '\\\n",
    "    'Side 4 appeard', side4, 'times  '\\\n",
    "    'Side 5 appeard', side5, 'times  '\\\n",
    "    'Side 6 appeard', side6, 'times', sep = '\\n')\n",
    "\n"
   ]
  },
  {
   "cell_type": "code",
   "execution_count": 1,
   "id": "800d3c42",
   "metadata": {},
   "outputs": [
    {
     "name": "stdout",
     "output_type": "stream",
     "text": [
      "Enter rating of the first candidat in first region:23\n",
      "Enter rating of the first candidat in seconf region:55\n",
      "rating for second candidat is 77.0\n",
      "Number of people voted for candidat 1 in first region -  2300\n",
      "Number of people voted for candidat 2 in first region -  7700\n",
      "Rating for second candidat is 45.0\n",
      "Number of people voted for candidat 1 in second region -  5500\n",
      "Number of people voted for candidat 2 in seconf region -  7700\n",
      " Total votes for candidat 1 - 2300\n",
      " Total votes for candidat 2 - 7700\n",
      "Candidat 2 win\n"
     ]
    }
   ],
   "source": [
    "candidat_1 = []\n",
    "candidat_2 = []\n",
    "\n",
    "region_1_rating_1 = float(input(\"Enter rating of the first candidat in first region:\"))\n",
    "region_2_rating_1 = float(input(\"Enter rating of the first candidat in seconf region:\"))\n",
    "\n",
    "#calculation for region 1\n",
    "region_1_rating_2 = 100 - region_1_rating_1 \n",
    "print(f'rating for second candidat is', region_1_rating_2)\n",
    "people_1 = int((10000 * region_1_rating_1) / 100)\n",
    "print(f'Number of people voted for candidat 1 in first region - ', people_1)\n",
    "people_2 = 10000 - people_1\n",
    "print(f'Number of people voted for candidat 2 in first region - ', people_2)\n",
    "\n",
    "#calculation for region 2\n",
    "region_2_rating_2 = 100 - region_2_rating_1 \n",
    "print(f'Rating for second candidat is', region_2_rating_2)\n",
    "people_reg2_1 = int((10000 * region_2_rating_1) / 100)\n",
    "print(f'Number of people voted for candidat 1 in second region - ', people_reg2_1)\n",
    "people_reg2_2 = 10000 - people_reg2_1\n",
    "print(f'Number of people voted for candidat 2 in seconf region - ', people_2)\n",
    "\n",
    "candidat_1.append(people_1)\n",
    "candidat_2.append(people_2)\n",
    "print(f' Total votes for candidat 1 - ', *candidat_1, sep = '')\n",
    "print(f' Total votes for candidat 2 - ', *candidat_2, sep = '')\n",
    "if candidat_1 > candidat_2:\n",
    "    print('Candidat 1 win')\n",
    "else: print('Candidat 2 win')"
   ]
  },
  {
   "cell_type": "code",
   "execution_count": null,
   "id": "d85494c3",
   "metadata": {},
   "outputs": [],
   "source": [
    "#1\n",
    "my_tuple = ('Jonh', 'Wick', 40)\n",
    "#2\n",
    "print(my_tuple[1])\n",
    "#3\n",
    "(first_name, last_name, age) = my_tuple\n",
    "#4\n",
    "for index in first_name:\n",
    "    print(index, end = ' ')\n",
    "#5\n",
    "my_tuple2 = (first_name[1:], last_name[1:])\n",
    "print(my_tuple2)\n",
    "#6, 7\n",
    "my_tuple3 = ((1, 2), (3, 4))\n",
    "print(sum(list(map(sum, list(my_tuple3)))))"
   ]
  }
 ],
 "metadata": {
  "kernelspec": {
   "display_name": "Python 3 (ipykernel)",
   "language": "python",
   "name": "python3"
  },
  "language_info": {
   "codemirror_mode": {
    "name": "ipython",
    "version": 3
   },
   "file_extension": ".py",
   "mimetype": "text/x-python",
   "name": "python",
   "nbconvert_exporter": "python",
   "pygments_lexer": "ipython3",
   "version": "3.11.0"
  }
 },
 "nbformat": 4,
 "nbformat_minor": 5
}
