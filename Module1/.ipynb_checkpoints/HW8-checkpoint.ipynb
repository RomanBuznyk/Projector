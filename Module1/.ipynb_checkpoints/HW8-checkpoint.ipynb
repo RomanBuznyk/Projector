{
 "cells": [
  {
   "cell_type": "code",
   "execution_count": null,
   "id": "27749488",
   "metadata": {},
   "outputs": [],
   "source": [
    "en_ua_dictionary = {}\n",
    "\n",
    "en_ua_dictionary['red'] = 'червоний'\n",
    "print(en_ua_dictionary)\n",
    "\n",
    "\n",
    "if 'blue' in en_ua_dictionary:\n",
    "    print(en_ua_dictionary)\n",
    "elif 'purple' in en_ua_dictionary:\n",
    "    print(en_ua_dictionary)\n",
    "else: en_ua_dictionary = {'red': 'червоний', 'blue': '', 'purple': ''} \n",
    "\n",
    "\n",
    "for key in en_ua_dictionary:\n",
    "    print(key.title(), 'in Ukranian is', en_ua_dictionary[key])\n",
    "\n",
    "\n",
    "res = {key: value for key, value in en_ua_dictionary.items() if len(value) > 5}\n",
    "print(res)\n",
    "\n"
   ]
  },
  {
   "cell_type": "code",
   "execution_count": null,
   "id": "2533bd9b",
   "metadata": {},
   "outputs": [],
   "source": [
    "import random \n",
    "from random import choice\n",
    "\n",
    "\n",
    "capitals = { 'Ukraine': 'Kyiv', 'France': 'Paris', 'Germany': 'Berlin', 'Italy': 'Rome', 'USA': 'Washington',\\\n",
    "    'Canada': 'Ottawa', 'Switzerland': 'Bern', 'Austria': 'Vienna', 'Belgium': 'Brussels', 'Sweden': 'Stockholm',\\\n",
    "    'Norway': 'Oslo', 'Denmark': 'Copenhagen', 'Finland': 'Helsinki',  'Poland': 'Warsaw', \\\n",
    "    'Romania': 'Bucharest', 'Bulgaria': 'Sofia', 'Greece': 'Athens'}\n",
    "\n",
    "\n",
    "#countries = list(capitals.keys())\n",
    "\n",
    "while True\n",
    "        country_choice = random.choice(list(capitals.keys()))\n",
    "        capital = capitals[country_choice]\n",
    "        print(f' The country is', country_choice)\n",
    "        answer = input('What is the capital of given country?')\n",
    "        score = 0\n",
    "        if answer == 'Exit':\n",
    "            break\n",
    "        elif answer == capital:\n",
    "            score += 1\n",
    "            print('Correct.\\n Score is %d \\n Quize goes on. \\n If you wnat to quit - write Exit' %score)\n",
    "            \n",
    "        elif answer != capital:\n",
    "            print('Wrong, please try again.  \\n If you wnat to quit - write Exit')\n",
    "\n"
   ]
  }
 ],
 "metadata": {
  "kernelspec": {
   "display_name": "Python 3 (ipykernel)",
   "language": "python",
   "name": "python3"
  },
  "language_info": {
   "codemirror_mode": {
    "name": "ipython",
    "version": 3
   },
   "file_extension": ".py",
   "mimetype": "text/x-python",
   "name": "python",
   "nbconvert_exporter": "python",
   "pygments_lexer": "ipython3",
   "version": "3.11.0"
  }
 },
 "nbformat": 4,
 "nbformat_minor": 5
}
