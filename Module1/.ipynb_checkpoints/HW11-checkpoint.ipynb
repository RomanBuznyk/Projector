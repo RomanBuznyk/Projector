{
 "cells": [
  {
   "cell_type": "code",
   "execution_count": null,
   "id": "6e1fd67d",
   "metadata": {},
   "outputs": [],
   "source": [
    "#1. Create a program that will ask user to search a word. \n",
    "#Search this word in Giphy (use their API).\n",
    "#Return links to these GIFs as a result\n",
    "\n",
    "import requests\n",
    "\n",
    "\n",
    "word = input('Enter the word:')\n",
    "\n",
    "\n",
    "def giphy(word):\n",
    "    #зайшов на гифи, зробив клбч та обрав Request URL з endpoint - search. Замість слова добавлю свое з юзер інпуту\n",
    "    api = 'https://api.giphy.com/v1/gifs/search?api_key=kYdmOJgQVatiBfyms8wBaWZyyjhHf03J&q=' + word + '&limit=1&offset=1&rating=g&lang=en' \n",
    "    response = requests.get(api)\n",
    "    print(resp.status_code)\n",
    "    #ітерую обʼєкти \n",
    "    for obj in response.json()['data']:\n",
    "        return obj['url']\n",
    "    \n",
    "\n",
    "print(giphy(word))\n",
    "\n",
    "\n",
    "\n"
   ]
  },
  {
   "cell_type": "code",
   "execution_count": 146,
   "id": "2b6882f5",
   "metadata": {},
   "outputs": [
    {
     "name": "stdout",
     "output_type": "stream",
     "text": [
      "Enter city and coutry code(Odesa, UA):Kiev, UA\n",
      "200\n",
      "Temperature in Celsius: 267.99            \n",
      "Feels like: 267.99            \n",
      "Humidity in %: 82            \n",
      "Wind speed in meter/sec: 0.89\n"
     ]
    }
   ],
   "source": [
    "# 2. Взяти API-weather, розпарсити і вивезти погоду від користувача \n",
    "#(вводить локацію, по цій локації повернеться погода, вологість і тд)\n",
    "# https://openweathermap.org *Потрібна реєстрація і створення свого api-ключа\n",
    "\n",
    "import requests\n",
    "\n",
    "\n",
    "coordinates = input('Enter city and coutry code(Odesa, UA):').split(',')\n",
    "\n",
    "\n",
    "def weather(coordinates):\n",
    "    city_name, country_code  = [x.strip() for x in coordinates]\n",
    "    weather_api = f'https://api.openweathermap.org/data/2.5/weather?q={city_name},{country_code}&appid=128db14c449b7da2dbc7260f4c32fd75'\n",
    "    resp = requests.get(weather_api)\n",
    "    print(resp.status_code)\n",
    "   \n",
    "    for obj in resp.json()['weather']:\n",
    "        return (f\"Temperature in Celsius: {resp.json()['main']['temp']}\\\n",
    "            \\nFeels like: {resp.json()['main']['feels_like']}\\\n",
    "            \\nHumidity in %: {resp.json()['main']['humidity']}\\\n",
    "            \\nWind speed in meter/sec: {resp.json()['wind']['speed']}\")\n",
    "\n",
    "\n",
    "print(weather(coordinates))\n"
   ]
  },
  {
   "cell_type": "code",
   "execution_count": 139,
   "id": "56d5fb73",
   "metadata": {},
   "outputs": [
    {
     "name": "stdout",
     "output_type": "stream",
     "text": [
      "Sergey Prokopyev\n",
      "Dmitry Petelin\n",
      "Frank Rubio\n",
      "Nicole Mann\n",
      "Josh Cassada\n",
      "Koichi Wakata\n",
      "Anna Kikina\n",
      "Fei Junlong\n",
      "Deng Qingming\n",
      "Zhang Lu\n",
      "10\n"
     ]
    }
   ],
   "source": [
    "# 3. Вивезти всіх космонавтів (кількість і імена) http://api.open-notify.org/astros.json\n",
    "\n",
    "import requests\n",
    "\n",
    "\n",
    "resp = requests.get('http://api.open-notify.org/astros.json')\n",
    "\n",
    "\n",
    "for obj in resp.json()['people']:\n",
    "    print(obj['name'])\n",
    "print(resp.json()['number'])\n",
    "    "
   ]
  },
  {
   "cell_type": "code",
   "execution_count": null,
   "id": "b2a663ad",
   "metadata": {},
   "outputs": [],
   "source": []
  }
 ],
 "metadata": {
  "kernelspec": {
   "display_name": "Python 3 (ipykernel)",
   "language": "python",
   "name": "python3"
  },
  "language_info": {
   "codemirror_mode": {
    "name": "ipython",
    "version": 3
   },
   "file_extension": ".py",
   "mimetype": "text/x-python",
   "name": "python",
   "nbconvert_exporter": "python",
   "pygments_lexer": "ipython3",
   "version": "3.11.0"
  }
 },
 "nbformat": 4,
 "nbformat_minor": 5
}
